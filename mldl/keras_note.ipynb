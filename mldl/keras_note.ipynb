{
 "cells": [
  {
   "cell_type": "markdown",
   "metadata": {},
   "source": [
    "## Layers\n",
    "### [Core Layers](https://keras.io/layers/core/)\n",
    "#### Input\n",
    "`Input()`用来实例化keras张量\n",
    "\n",
    "参数：\n",
    "\n",
    "* **shape**: `shape=(32,)`表示输入是批量的32维vector\n",
    "\n",
    "#### Dense\n",
    "\n",
    "\n",
    "### [Embedding Layers](https://keras.io/layers/embeddings/)\n",
    "#### Embedding\n",
    "只能作为第一层\n",
    "\n",
    "* `Embedding(1000, 50, input_length=10)`表示输入是一个(batch, input_length)的整数矩阵\n",
    "* 矩阵中最大的数不超过999\n",
    "* 输出是一个形为(None, 10, 50)，其中None表示batch的维度\n",
    "\n",
    "### [Convolutional Layers](https://keras.io/layers/convolutional/)\n",
    "#### Conv1D\n",
    "\n",
    "参数：\n",
    "   \n",
    "* **filters**: 卷积核的数目\n",
    "* **kernel_size**: 一维卷积窗口的长度"
   ]
  },
  {
   "cell_type": "code",
   "execution_count": null,
   "metadata": {
    "collapsed": true
   },
   "outputs": [],
   "source": []
  }
 ],
 "metadata": {
  "kernelspec": {
   "display_name": "Python 3",
   "language": "python",
   "name": "python3"
  },
  "language_info": {
   "codemirror_mode": {
    "name": "ipython",
    "version": 3
   },
   "file_extension": ".py",
   "mimetype": "text/x-python",
   "name": "python",
   "nbconvert_exporter": "python",
   "pygments_lexer": "ipython3",
   "version": "3.6.1"
  }
 },
 "nbformat": 4,
 "nbformat_minor": 2
}
